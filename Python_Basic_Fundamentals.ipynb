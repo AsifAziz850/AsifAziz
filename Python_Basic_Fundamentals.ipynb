{
  "nbformat": 4,
  "nbformat_minor": 0,
  "metadata": {
    "colab": {
      "name": "Python Basic Fundamentals.ipynb",
      "provenance": [],
      "authorship_tag": "ABX9TyOl6EThpswjU5bM1CTbNC5q",
      "include_colab_link": true
    },
    "kernelspec": {
      "name": "python3",
      "display_name": "Python 3"
    },
    "language_info": {
      "name": "python"
    }
  },
  "cells": [
    {
      "cell_type": "markdown",
      "metadata": {
        "id": "view-in-github",
        "colab_type": "text"
      },
      "source": [
        "<a href=\"https://colab.research.google.com/github/AsifAziz850/AsifAziz/blob/main/Python_Basic_Fundamentals.ipynb\" target=\"_parent\"><img src=\"https://colab.research.google.com/assets/colab-badge.svg\" alt=\"Open In Colab\"/></a>"
      ]
    },
    {
      "cell_type": "code",
      "metadata": {
        "id": "qgRDSDhWazyN"
      },
      "source": [
        "print('Hello world!',end='\\n');\n",
        "print(\"\"\"Welcome To Python Programming\"\"\");\n",
        "print(\"\"\"Have a nice day!\"\"\");\n",
        "\n",
        "# Interpreter is computer program that translate source code into machine code line by line.\n",
        "# Compiler is computer program that translate source code into machine code whole code at a same time.\n",
        "\n",
        "\"\"\"\n",
        "Non-Printed Characters.\n",
        "Escape Sequence are special single character used with \\ (slash) symbol.\n",
        "\\n      New line.\n",
        "\\t      tab\n",
        "\\'      print text with in single quotes text.\n",
        "\\\"      print text with in double quotes text.\n",
        "\\b      backspace.\n",
        "\\\\      print text with slash\n",
        "\n",
        "\n",
        "Format Specifier or placeholder are special character used with (%) symbol.\n",
        "%s      for displaying string data.\n",
        "%d      for displaying integer data.\n",
        "%f      for displaying floating data.\n",
        "%o      for displaying octal data.\n",
        "%X      for displaying data in hexa-decimal format.\n",
        "Generic format specifier.\n",
        "{}\n",
        "{0} {1} {2} {3}\n",
        "{0:f}\n",
        "{0:.3f}\n",
        "{0:.1f}\n",
        "{0:d}\n",
        "\"\"\"\n",
        "\n",
        "name= \"Asif Aziz\";\n",
        "age =30;\n",
        "print(\"My Name is :%s\"%name);\n",
        "print(\"Your Age is :\",age);\n",
        "print(\"%d is your age \"%(age))\n",
        "print(\"%.3f is your age \"%(age))\n",
        "print(\"%X is your age \"%(age))"
      ],
      "execution_count": null,
      "outputs": []
    },
    {
      "cell_type": "code",
      "metadata": {
        "colab": {
          "base_uri": "https://localhost:8080/"
        },
        "id": "m1l9b1LRo8EZ",
        "outputId": "384aa03a-e74e-4198-8509-80de6db3f494"
      },
      "source": [
        "# Good code is self-documented.\n",
        "import keyword \n",
        "print(keyword.kwlist)"
      ],
      "execution_count": 8,
      "outputs": [
        {
          "output_type": "stream",
          "text": [
            "['False', 'None', 'True', 'and', 'as', 'assert', 'async', 'await', 'break', 'class', 'continue', 'def', 'del', 'elif', 'else', 'except', 'finally', 'for', 'from', 'global', 'if', 'import', 'in', 'is', 'lambda', 'nonlocal', 'not', 'or', 'pass', 'raise', 'return', 'try', 'while', 'with', 'yield']\n"
          ],
          "name": "stdout"
        }
      ]
    },
    {
      "cell_type": "code",
      "metadata": {
        "id": "aikti67npHpe"
      },
      "source": [
        "name = \"Asif Aziz\";\n",
        "Name = \"Ali Hyder\";\n",
        "\n",
        "print(name, end='');\n",
        "print(Name,end='');"
      ],
      "execution_count": null,
      "outputs": []
    },
    {
      "cell_type": "code",
      "metadata": {
        "colab": {
          "base_uri": "https://localhost:8080/"
        },
        "id": "4H1u-5eh7da_",
        "outputId": "6b8e406b-f0a6-4717-957e-7c18617469f0"
      },
      "source": [
        "\"\"\"\n",
        "Variable is container or placeholder that is used to store data in a computer memory.\n",
        "1. Name\n",
        "2. Value\n",
        "3. Reference.\n",
        "\n",
        "Rules for Variables:\n",
        "$   Dollar sign\n",
        "_   Underscoce\n",
        "A-Z\n",
        "a-z\n",
        "0-9\n",
        "\"\"\"\n",
        "myName =\"Asif Aziz\"\n",
        "print(\"The type of myName is :\",type(myName))\n",
        "print(\"The value of myName is :\",myName);\n",
        "print(\"The value of myName is :\",id(myName))\n",
        "\n",
        "\n",
        "# Types in Python.\n",
        "isMarried= True;\n",
        "print('The value of isMarried variable is :',isMarried);\n",
        "isMarried= False;\n",
        "print('The value of isMarried variable is :',isMarried);\n",
        "print('The dataType of isMarried variable is :', type(isMarried));\n",
        "\n",
        "age =20;\n",
        "print('\\n\\nThe value of age variable is :',age);\n",
        "print('The Type of age variable is :',type(age));\n",
        "\n",
        "age =20.5;\n",
        "print('\\n\\nThe value of age variable is :',age);\n",
        "print('The Type of age variable is :',type(age));\n",
        "\n",
        "name1 =\"Asif\";\n",
        "name2 ='Aziz';\n",
        "name3 =\"\"\"Asif Aziz\"\"\";\n",
        "print('\\n\\nThe value of name1 variable is :',name1);\n",
        "print('\\n\\nThe value of name2 variable is :',name2);\n",
        "print('\\n\\nThe value of name3 variable is :',name3);\n",
        "print('The Type of name1 variable is :',type(name1),\"\\t\\tThe Type of name2 variable is :\",type(name2),\"\\t\\tThe Type of name2 variable is :\",type(name3));\n",
        "\n",
        "\n",
        "print('\\n\\n')\n",
        "# Swapping Values.\n",
        "x = 100\n",
        "y = 200\n",
        "print('The value of x is : ',x)\n",
        "print('The value of y is : ',y)\n",
        "x,y= y,x\n",
        "print('\\n\\nThe value of x is :',x)\n",
        "print('The value of y is :',y)"
      ],
      "execution_count": 3,
      "outputs": [
        {
          "output_type": "stream",
          "text": [
            "The type of myName is : <class 'str'>\n",
            "The value of myName is : Asif Aziz\n",
            "The value of myName is : 140116985237232\n",
            "\n",
            "\n",
            "\n",
            "The value of x is :  100\n",
            "The value of y is :  200\n",
            "\n",
            "\n",
            "The value of x is : 200\n",
            "The value of y is : 100\n"
          ],
          "name": "stdout"
        }
      ]
    },
    {
      "cell_type": "code",
      "metadata": {
        "id": "jldAdHasnzhj"
      },
      "source": [
        "#Type Conversion in Python.\n",
        "var =\"123456\";\n",
        "print(type(var))\n",
        "var=int(var);\n",
        "print(type(var))\n",
        "\n",
        "var =\"True\";\n",
        "print(\"\\n\\n\",type(var));\n",
        "var = bool(var);\n",
        "print(type(var));\n",
        "\n",
        "\n",
        "var =12345;\n",
        "print(\"\\n\\n\",type(var));\n",
        "var = str(var);\n",
        "print(type(var));\n",
        "\n",
        "var =12345;\n",
        "print(\"\\n\\n\",type(var));\n",
        "var = float(var);\n",
        "print(type(var));\n",
        "print(\"The value of var is :\",var);\n",
        "\n",
        "\"\"\" \n",
        "data =\"Hello world\";\n",
        "data=int(data);\n",
        "print(data) \"\"\"\n",
        "\n",
        "data =90.405;\n",
        "new_value=int(data);\n",
        "print(\"\\n\\nnThe value of ew_value is :\",new_value)\n",
        "print(type(new_value))\n",
        "print(\"Address of variable is \",id(new_value));"
      ],
      "execution_count": null,
      "outputs": []
    },
    {
      "cell_type": "code",
      "metadata": {
        "colab": {
          "base_uri": "https://localhost:8080/"
        },
        "id": "MTKjr042iKH4",
        "outputId": "e98f83a9-c79b-4d5d-c6c1-a9bb22e93ced"
      },
      "source": [
        "name=input(\"Enter Your Name :\")\n",
        "print(\"Your Name is :\",name)\n",
        "print(\"Type of Name is :\",type(name))"
      ],
      "execution_count": 4,
      "outputs": [
        {
          "output_type": "stream",
          "text": [
            "Enter Your Name :Asif Aziz\n",
            "Your Name is : Asif Aziz\n",
            "Type of Name is : <class 'str'>\n"
          ],
          "name": "stdout"
        }
      ]
    },
    {
      "cell_type": "code",
      "metadata": {
        "id": "PWPKeWfaits3"
      },
      "source": [
        "v1=input(\"Enter Your First Number :\")\n",
        "v2=input(\"Enter Your Second Number :\")\n",
        "print(\"Addition of v1+v2 :\",v1+v2);\n",
        "print(\"Type of v1 is :\",type(v1), \"Type of v2 is :\",type(v2))"
      ],
      "execution_count": null,
      "outputs": []
    },
    {
      "cell_type": "code",
      "metadata": {
        "id": "zwx-Z0cIi7il"
      },
      "source": [
        "\"\"\"\n",
        "Arithmetic Operators:\n",
        "1. Addition +\n",
        "2. Substraction -\n",
        "3. Multiplication *\n",
        "4. Division /\n",
        "5. Reminder %\n",
        "\n",
        "6. Floor Division //\n",
        "7. Exponents **\n",
        "\n",
        "1 Concatenate +\n",
        "2. Repitation *\n",
        "\"\"\"\n",
        "\n",
        "v1= \"1000\"\n",
        "v2= \"2000\"\n",
        "\n",
        "print(\"Type of v1 is :\",type(v1),\"\\tType of v2 is :\",type(v2))\n",
        "\n",
        "\n",
        "v1=int(v1)\n",
        "v2=int(v2)\n",
        "print(\"Type of v1 is :\",type(v1),\"\\tType of v2 is :\",type(v2))\n",
        "\n",
        "print(\"Addition of v1+v2 is :\",v1+v2);\n",
        "print(\"Substraction of v1-v2 is :\",v1-v2);\n",
        "print(\"Multiplication of v1*v2 is :\",v1*v2);\n",
        "print(\"Division of v1/v2 is :\",v1/v2);\n",
        "print(\"Reminder of v1%v2 is :\",v1%v2);\n",
        "\n",
        "print(\"Addition of v1+v2 is :\",5**2);\n",
        "\n",
        "class1 =\"Data Science\" \n",
        "print(\"Repitition is :\",class1*5);\n"
      ],
      "execution_count": null,
      "outputs": []
    },
    {
      "cell_type": "code",
      "metadata": {
        "id": "V9fr79NYoIE3"
      },
      "source": [
        "\n",
        "\"\"\"\n",
        "Unary Operator : if operator is applicable with single operand is called unary or negation operator.\n",
        "Binary Operator: if operator is applicable two or more than two operand is called Binary operator.\n",
        "\n",
        "\"\"\"\n",
        "\n",
        "# Arithmetic Operators.   +, -, *, /, //,  %, **,     Numeric + Numeric =Addition Numeric, Numeric+string= Error, string+string=concatenate.\n",
        "# Assignemnt Operators. = ,+=, -=, *=, /=, //=, %=\n",
        "# 2.1 Arithmetic Assignment Operators.\n",
        "# Relational Operators or Comparsion Operators.\n",
        "# Logical Operators.\n",
        "# Bitwise Logical Operators.\n",
        "# Increment and Decrement Operators.\n",
        "#Other operator (Ternary operator).\n",
        "# Bitwise logical operators. & | ~ << >>\n",
        "# Idenity Operators : Is and is not\n",
        "# membership operator : in and not in.\n",
        "\n",
        "val1=100;\n",
        "val2=150;\n",
        "\n",
        "print('The value of val1 is :',val1,'The type of val1 is :',type(val1));\n",
        "print('The value of val1 is :',val1,'The type of val1 is :',type(val1));\n",
        "print(\"Addition of val1+val2 is :\",val1+val2);\n",
        "print(\"Substraction of val1-val2 is :\",val1-val2);\n",
        "print(\"Multiplication of val1*val2 is :\",val1*val2);\n",
        "print(\"Division of val1/val2 is :\",val1/val2);\n",
        "print(\"Floor Division of val1//val2 is :\",val1//val2);\n",
        "print(\"Reminder of val1%val2 is :\",val1%val2);\n",
        "print(\"Exponents of val1**val2 is :\",val1**val2);\n"
      ],
      "execution_count": null,
      "outputs": []
    },
    {
      "cell_type": "code",
      "metadata": {
        "id": "FFLpXI9ZoOFW"
      },
      "source": [
        "val1=100;\n",
        "val2=150;\n",
        "\n",
        "print('The value of val1 is :',val1,'The type of val1 is :',type(val1));\n",
        "print('The value of val1 is :',val1,'The type of val1 is :',type(val1));\n",
        "val1+=val2;\n",
        "print(\"Addition of val1+val2 is :\",val1);\n",
        "val1-=val2;\n",
        "print(\"Substraction of val1-val2 is :\",val1);\n",
        "val1*=val2;\n",
        "print(\"Multiplication of val1*val2 is :\",val1);\n",
        "val1/=val2;\n",
        "print(\"Division of val1/val2 is :\",val1);\n",
        "val1//=val2;\n",
        "print(\"Floor Division of val1//val2 is :\",val1);\n",
        "val1%=val2;\n",
        "print(\"Reminder of val1%val2 is :\",val1);\n",
        "val1**=val2;\n",
        "print(\"Exponents of val1**val2 is :\",val1);"
      ],
      "execution_count": null,
      "outputs": []
    },
    {
      "cell_type": "code",
      "metadata": {
        "id": "MBzhZxeSoVSe"
      },
      "source": [
        "print(100 < 200);\n",
        "print(100 > 200);\n",
        "print(100 <= 200);\n",
        "print(100 >= 200);\n",
        "print(100 == 200);\n",
        "print(100 != 200);\n"
      ],
      "execution_count": null,
      "outputs": []
    },
    {
      "cell_type": "code",
      "metadata": {
        "id": "IzC6ErAuoarH"
      },
      "source": [
        "# Class Work: Read two inputs of integers and calculate it.\n",
        "a=int(input(\"Enter first Number :\"));\n",
        "b=int(input(\"Enter Second Number :\"));\n",
        "\n",
        "print(\"Addition of a+b is :\",a+b);\n",
        "print(\"Substraction of a+b is :\",a-b);\n",
        "print(\"Multiplication of a+b is :\",a*b);\n",
        "print(\"Division of a+b is :\",a/b);\n",
        "print(\"Reminder of a+b is :\",a%b);"
      ],
      "execution_count": null,
      "outputs": []
    },
    {
      "cell_type": "code",
      "metadata": {
        "colab": {
          "base_uri": "https://localhost:8080/"
        },
        "id": "2-F3wtR6olVJ",
        "outputId": "22cbb9dd-f3d0-446f-e66e-3f3f7697e67a"
      },
      "source": [
        "a=int(input(\"Enter first Number :\"));\n",
        "b=int(input(\"Enter Second Number :\"));\n",
        "max=a if a>b else b\n",
        "print(\"The maximum value is :\",max);"
      ],
      "execution_count": 6,
      "outputs": [
        {
          "output_type": "stream",
          "text": [
            "Enter first Number :500\n",
            "Enter Second Number :200\n",
            "The maximum value is : 500\n"
          ],
          "name": "stdout"
        }
      ]
    },
    {
      "cell_type": "code",
      "metadata": {
        "colab": {
          "base_uri": "https://localhost:8080/"
        },
        "id": "_VMCwLiDpxMN",
        "outputId": "06f529c8-3864-4c42-bb12-e549281ecfa8"
      },
      "source": [
        "#Poem\n",
        "print(\"There once was a movie star icon.\\nWho preferred to sleep with the light on.\\nThey learned how to code.\\nA device that sure glowed.\\nAnd lit up the night using Python!\")\n"
      ],
      "execution_count": 10,
      "outputs": [
        {
          "output_type": "stream",
          "text": [
            "There once was a movie star icon.\n",
            "Who preferred to sleep with the light on.\n",
            "They learned how to code.\n",
            "A device that sure glowed.\n",
            "And lit up the night using Python!\n"
          ],
          "name": "stdout"
        }
      ]
    },
    {
      "cell_type": "code",
      "metadata": {
        "id": "pSAd3u-aqwry"
      },
      "source": [
        "# String in python\n",
        "myName = 'Asif Aziz Jatoi';\n",
        "firstName = \"Asif Aziz\";\n",
        "lastName = \"\"\"Asif Jatoi\"\"\";\n",
        "\n",
        "print(\"The value of myName is : \",myName, \"Length of myName is :\", len(myName));\n",
        "print(\"The value of firstName is : \",myName, \"Length of firstName is :\", len(firstName));\n",
        "print(\"The value of lastName is : \",myName, \"Length of lastName is :\", len(lastName));\n",
        "# String Slicing.\n",
        "print(\"\\n\\nStart from 0 Position upto 4 character :\",myName[:4]);\n",
        "print(\"\\n\\nStart from Ending -1 Position upto -5 character :\",myName[-5:]);\n",
        "\n",
        "print(\"Start from 0 Position upto 4 position :\",myName[0:4])\n",
        "print(\"Start from 4 Position upto 9 position :\",myName[5:9])\n",
        "print(\"Start from End Position upto 4 character :\",myName[-5:-1]);\n",
        "\n",
        "print(\"Convert Text into Capitalize Case Character : \",myName.capitalize());\n",
        "print(\"Convert Text into Title Case Character : \",myName.title());\n",
        "print(\"Convert Text into Upper Case Character : \",myName.upper());\n",
        "print(\"Convert Text into Lower Case Character : \",myName.lower());\n",
        "print(\"Convert Text Upper case to lower case and Vice Versa : \",myName.swapcase());\n",
        "\n",
        "print(\"Finding text from string : \",myName.find(\"Jatoi\"));\n",
        "print(\"Finding text from string : \",myName.find(\"----\"));\n",
        "\n",
        "print(\"Finding text from string : \",myName.replace(\"Jatoi\",\"jatoi\"));\n",
        "\n",
        "print(\"Concatenate is : \"+ myName + \" Good Morning\")  # Concatenate.\n",
        "print(\"Repitation is :\"+ myName * 3)  # Repitation the String.\n",
        "\n",
        "print(\"Combine string and int \"+myName +str(1000));\n",
        "\n",
        "print(myName[0::])\n",
        "\n",
        "print(myName[::-1]);\n",
        "\n",
        "print(\"Get Complete String :\",myName[::]);\n",
        "\n",
        "\n",
        "print(\"\\\"Escape Sequence\\\"\");\n",
        "print(\"\\'Escape Sequence\\'\");\n",
        "print(\"\\\\Escape Sequence\\\\\");\n",
        "print(\"\\nEscape\\nSequence\\\\\");\n",
        "print(\"\\tEscape\\tSequence\");\n",
        "\n",
        "\n",
        "# MemberShip operator:\n",
        "print(\"Asif\" in myName);    #True\n",
        "print(\"jatoi\" in myName);   #False\n",
        "\n",
        "print(\"Asif\" not in myName); #False\n",
        "print(\"jatoi\" not in myName); #True."
      ],
      "execution_count": null,
      "outputs": []
    },
    {
      "cell_type": "code",
      "metadata": {
        "id": "mAFU8uJFrCsL"
      },
      "source": [
        "isMarried = True;\n",
        "print(\"the value of isMarried is :\", isMarried);\n",
        "print(\"the value of isMarried is :\", type(isMarried));\n",
        "isMarried= False;\n",
        "print(\"the value of isMarried is :\", isMarried);\n",
        "print(\"the value of isMarried is :\", type(isMarried));\n",
        "\n",
        "number = 10000;\n",
        "print(\"\\n\\nthe value of number is :\", number);\n",
        "print(\"the value of number is :\", type(number));\n",
        "\n",
        "number = 1000.5000;\n",
        "print(\"\\n\\nthe value of number is :\", number);\n",
        "print(\"the value of number is :\", type(number));\n",
        "\n",
        "\n",
        "str1 =\"Hello world Welcome to python programming\";\n",
        "str2 ='Hello world Welcome to python programming';\n",
        "str3 =\"\"\"Hello world Welcome to python programming\"\"\";\n",
        "\n",
        "print(\"\\n\\nthe value of number is :\", str1);\n",
        "print(\"the value of number is :\", type(str1));\n",
        "\n",
        "\n",
        "str1 =\"Hello world Welcome to python programming\";\n",
        "str2 ='Hello world Welcome to python programming';\n",
        "str3 =\"\"\"Hello world Welcome to python programming\"\"\";\n",
        "\n",
        "print(\"\\n\\nthe value of number is :\", str1);\n",
        "print(\"the value of number is :\", type(str1));\n",
        "\n",
        "\n",
        "lst = [200,\"Asif\",\"Aziz\",90,68000.50,78,True,5457,False];\n",
        "print(\"Value of List is : \",lst);\n",
        "print(\"DataType of List is : \",type(lst));\n",
        "\n",
        "\n",
        "lst = (200,\"Asif\",\"Aziz\",90,68000.50,78,True,5457,False);\n",
        "print(\"\\n\\nValue of Tuple is : \",lst);\n",
        "print(\"DataType of Tuple is : \",type(lst));\n",
        "\n",
        "#Excel 7 =15k-20K\n",
        "\n",
        "lst = {200,\"Asif\",\"Aziz\",90,68000.50,78,True,5457,False};\n",
        "print(\"\\n\\nValue of set is : \",lst);\n",
        "print(\"DataType of set is : \",type(lst));\n",
        "\n",
        "\n",
        "lst = {\"Asif\":10001,\"Symith\":20050,\"Jamil\":90025,\"Asad\":989898,\"Komail\":47474,\"Rehan\":66300,\"Saba\":963630};\n",
        "print(\"\\n\\nValue of Dictonaries is : \",lst);\n",
        "print(\"DataType of Dictonary is : \",type(lst));\n",
        "\n",
        "\n",
        "str =b\"hello\";\n",
        "print(\"\\n\\n\",type(str));\n",
        "print(\"\\n\\n\",str);\n",
        "\n",
        "name =\"Asif Aziz Jatoi.Asif Aziz Jatoi.\";\n",
        "\n",
        "print(name[::-1].replace(\"A\",\"@\",1)[::-1])\n",
        "\n",
        "#print(name[ 5 : 10 ])\n",
        "#print(name[ ::-1 ].replace(\"A\",\"@\",2)[::-1])\n",
        "\n",
        "#print(name[ ::-1 ].replace(\"A\",\"@\",2)[::-1])\n",
        "\n",
        "print(name[::])"
      ],
      "execution_count": null,
      "outputs": []
    }
  ]
}